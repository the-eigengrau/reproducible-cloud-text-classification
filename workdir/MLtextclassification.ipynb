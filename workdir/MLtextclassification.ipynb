{
 "cells": [
  {
   "cell_type": "markdown",
   "metadata": {},
   "source": [
    "### Text Classification - BBC Dataset"
   ]
  },
  {
   "cell_type": "code",
   "execution_count": 1,
   "metadata": {},
   "outputs": [],
   "source": [
    "import pandas as pd\n",
    "import matplotlib as plt\n",
    "import seaborn as sns\n",
    "import warnings\n",
    "warnings.simplefilter(action='ignore')\n",
    "\n",
    "import mlflow\n",
    "import mlflow.sklearn"
   ]
  },
  {
   "cell_type": "code",
   "execution_count": 2,
   "metadata": {},
   "outputs": [],
   "source": [
    "data = pd.read_csv('./Assignment2_BBCNewsData.csv')"
   ]
  },
  {
   "cell_type": "markdown",
   "metadata": {},
   "source": [
    "### Exploratory Data Analysis"
   ]
  },
  {
   "cell_type": "code",
   "execution_count": 3,
   "metadata": {},
   "outputs": [
    {
     "data": {
      "text/html": [
       "<div>\n",
       "<style scoped>\n",
       "    .dataframe tbody tr th:only-of-type {\n",
       "        vertical-align: middle;\n",
       "    }\n",
       "\n",
       "    .dataframe tbody tr th {\n",
       "        vertical-align: top;\n",
       "    }\n",
       "\n",
       "    .dataframe thead th {\n",
       "        text-align: right;\n",
       "    }\n",
       "</style>\n",
       "<table border=\"1\" class=\"dataframe\">\n",
       "  <thead>\n",
       "    <tr style=\"text-align: right;\">\n",
       "      <th></th>\n",
       "      <th>No</th>\n",
       "      <th>News</th>\n",
       "      <th>Category</th>\n",
       "    </tr>\n",
       "  </thead>\n",
       "  <tbody>\n",
       "    <tr>\n",
       "      <th>0</th>\n",
       "      <td>1</td>\n",
       "      <td>Ad sales boost Time Warner profit  Quarterly p...</td>\n",
       "      <td>business</td>\n",
       "    </tr>\n",
       "    <tr>\n",
       "      <th>1</th>\n",
       "      <td>2</td>\n",
       "      <td>Dollar gains on Greenspan speech  The dollar h...</td>\n",
       "      <td>business</td>\n",
       "    </tr>\n",
       "    <tr>\n",
       "      <th>2</th>\n",
       "      <td>3</td>\n",
       "      <td>Yukos unit buyer faces loan claim  The owners ...</td>\n",
       "      <td>business</td>\n",
       "    </tr>\n",
       "    <tr>\n",
       "      <th>3</th>\n",
       "      <td>4</td>\n",
       "      <td>High fuel prices hit BA's profits  British Air...</td>\n",
       "      <td>business</td>\n",
       "    </tr>\n",
       "    <tr>\n",
       "      <th>4</th>\n",
       "      <td>5</td>\n",
       "      <td>Pernod takeover talk lifts Domecq  Shares in U...</td>\n",
       "      <td>business</td>\n",
       "    </tr>\n",
       "    <tr>\n",
       "      <th>...</th>\n",
       "      <td>...</td>\n",
       "      <td>...</td>\n",
       "      <td>...</td>\n",
       "    </tr>\n",
       "    <tr>\n",
       "      <th>2220</th>\n",
       "      <td>2221</td>\n",
       "      <td>BT program to beat dialler scams  BT is introd...</td>\n",
       "      <td>tech</td>\n",
       "    </tr>\n",
       "    <tr>\n",
       "      <th>2221</th>\n",
       "      <td>2222</td>\n",
       "      <td>Spam e-mails tempt net shoppers  Computer user...</td>\n",
       "      <td>tech</td>\n",
       "    </tr>\n",
       "    <tr>\n",
       "      <th>2222</th>\n",
       "      <td>2223</td>\n",
       "      <td>Be careful how you code  A new European direct...</td>\n",
       "      <td>tech</td>\n",
       "    </tr>\n",
       "    <tr>\n",
       "      <th>2223</th>\n",
       "      <td>2224</td>\n",
       "      <td>US cyber security chief resigns  The man makin...</td>\n",
       "      <td>tech</td>\n",
       "    </tr>\n",
       "    <tr>\n",
       "      <th>2224</th>\n",
       "      <td>2225</td>\n",
       "      <td>Losing yourself in online gaming  Online role ...</td>\n",
       "      <td>tech</td>\n",
       "    </tr>\n",
       "  </tbody>\n",
       "</table>\n",
       "<p>2225 rows × 3 columns</p>\n",
       "</div>"
      ],
      "text/plain": [
       "        No                                               News  Category\n",
       "0        1  Ad sales boost Time Warner profit  Quarterly p...  business\n",
       "1        2  Dollar gains on Greenspan speech  The dollar h...  business\n",
       "2        3  Yukos unit buyer faces loan claim  The owners ...  business\n",
       "3        4  High fuel prices hit BA's profits  British Air...  business\n",
       "4        5  Pernod takeover talk lifts Domecq  Shares in U...  business\n",
       "...    ...                                                ...       ...\n",
       "2220  2221  BT program to beat dialler scams  BT is introd...      tech\n",
       "2221  2222  Spam e-mails tempt net shoppers  Computer user...      tech\n",
       "2222  2223  Be careful how you code  A new European direct...      tech\n",
       "2223  2224  US cyber security chief resigns  The man makin...      tech\n",
       "2224  2225  Losing yourself in online gaming  Online role ...      tech\n",
       "\n",
       "[2225 rows x 3 columns]"
      ]
     },
     "execution_count": 3,
     "metadata": {},
     "output_type": "execute_result"
    }
   ],
   "source": [
    "data"
   ]
  },
  {
   "cell_type": "code",
   "execution_count": 4,
   "metadata": {},
   "outputs": [
    {
     "data": {
      "text/html": [
       "<div>\n",
       "<style scoped>\n",
       "    .dataframe tbody tr th:only-of-type {\n",
       "        vertical-align: middle;\n",
       "    }\n",
       "\n",
       "    .dataframe tbody tr th {\n",
       "        vertical-align: top;\n",
       "    }\n",
       "\n",
       "    .dataframe thead th {\n",
       "        text-align: right;\n",
       "    }\n",
       "</style>\n",
       "<table border=\"1\" class=\"dataframe\">\n",
       "  <thead>\n",
       "    <tr style=\"text-align: right;\">\n",
       "      <th></th>\n",
       "      <th>No</th>\n",
       "    </tr>\n",
       "  </thead>\n",
       "  <tbody>\n",
       "    <tr>\n",
       "      <th>count</th>\n",
       "      <td>2225.000000</td>\n",
       "    </tr>\n",
       "    <tr>\n",
       "      <th>mean</th>\n",
       "      <td>1113.000000</td>\n",
       "    </tr>\n",
       "    <tr>\n",
       "      <th>std</th>\n",
       "      <td>642.446496</td>\n",
       "    </tr>\n",
       "    <tr>\n",
       "      <th>min</th>\n",
       "      <td>1.000000</td>\n",
       "    </tr>\n",
       "    <tr>\n",
       "      <th>25%</th>\n",
       "      <td>557.000000</td>\n",
       "    </tr>\n",
       "    <tr>\n",
       "      <th>50%</th>\n",
       "      <td>1113.000000</td>\n",
       "    </tr>\n",
       "    <tr>\n",
       "      <th>75%</th>\n",
       "      <td>1669.000000</td>\n",
       "    </tr>\n",
       "    <tr>\n",
       "      <th>max</th>\n",
       "      <td>2225.000000</td>\n",
       "    </tr>\n",
       "  </tbody>\n",
       "</table>\n",
       "</div>"
      ],
      "text/plain": [
       "                No\n",
       "count  2225.000000\n",
       "mean   1113.000000\n",
       "std     642.446496\n",
       "min       1.000000\n",
       "25%     557.000000\n",
       "50%    1113.000000\n",
       "75%    1669.000000\n",
       "max    2225.000000"
      ]
     },
     "execution_count": 4,
     "metadata": {},
     "output_type": "execute_result"
    }
   ],
   "source": [
    "data.describe()"
   ]
  },
  {
   "cell_type": "markdown",
   "metadata": {},
   "source": [
    "https://towardsdatascience.com/text-classification-in-python-dd95d264c802"
   ]
  },
  {
   "cell_type": "code",
   "execution_count": 5,
   "metadata": {
    "scrolled": true
   },
   "outputs": [
    {
     "data": {
      "text/html": [
       "<div>\n",
       "<style scoped>\n",
       "    .dataframe tbody tr th:only-of-type {\n",
       "        vertical-align: middle;\n",
       "    }\n",
       "\n",
       "    .dataframe tbody tr th {\n",
       "        vertical-align: top;\n",
       "    }\n",
       "\n",
       "    .dataframe thead th {\n",
       "        text-align: right;\n",
       "    }\n",
       "</style>\n",
       "<table border=\"1\" class=\"dataframe\">\n",
       "  <thead>\n",
       "    <tr style=\"text-align: right;\">\n",
       "      <th></th>\n",
       "      <th>Percent of Articles</th>\n",
       "      <th>Count</th>\n",
       "    </tr>\n",
       "    <tr>\n",
       "      <th>Category</th>\n",
       "      <th></th>\n",
       "      <th></th>\n",
       "    </tr>\n",
       "  </thead>\n",
       "  <tbody>\n",
       "    <tr>\n",
       "      <th>business</th>\n",
       "      <td>22.921348</td>\n",
       "      <td>510</td>\n",
       "    </tr>\n",
       "    <tr>\n",
       "      <th>entertainment</th>\n",
       "      <td>17.348315</td>\n",
       "      <td>386</td>\n",
       "    </tr>\n",
       "    <tr>\n",
       "      <th>politics</th>\n",
       "      <td>18.741573</td>\n",
       "      <td>417</td>\n",
       "    </tr>\n",
       "    <tr>\n",
       "      <th>sport</th>\n",
       "      <td>22.966292</td>\n",
       "      <td>511</td>\n",
       "    </tr>\n",
       "    <tr>\n",
       "      <th>tech</th>\n",
       "      <td>18.022472</td>\n",
       "      <td>401</td>\n",
       "    </tr>\n",
       "  </tbody>\n",
       "</table>\n",
       "</div>"
      ],
      "text/plain": [
       "               Percent of Articles  Count\n",
       "Category                                 \n",
       "business                 22.921348    510\n",
       "entertainment            17.348315    386\n",
       "politics                 18.741573    417\n",
       "sport                    22.966292    511\n",
       "tech                     18.022472    401"
      ]
     },
     "execution_count": 5,
     "metadata": {},
     "output_type": "execute_result"
    }
   ],
   "source": [
    "balance = data.groupby(['Category']).count()\n",
    "balance['No'] = list(map(lambda x: (x/2225)*100, balance['No']))\n",
    "balance.columns = ['Percent of Articles','Count']\n",
    "balance"
   ]
  },
  {
   "cell_type": "markdown",
   "metadata": {},
   "source": [
    "##### Are the categories balanced?\n",
    "\n",
    "A critical question for text analysis."
   ]
  },
  {
   "cell_type": "code",
   "execution_count": 6,
   "metadata": {},
   "outputs": [
    {
     "data": {
      "text/plain": [
       "<matplotlib.axes._subplots.AxesSubplot at 0x174d04fdbc8>"
      ]
     },
     "execution_count": 6,
     "metadata": {},
     "output_type": "execute_result"
    },
    {
     "data": {
      "image/png": "[encoded data removed]",
      "text/plain": [
       "<Figure size 432x288 with 1 Axes>"
      ]
     },
     "metadata": {
      "needs_background": "light"
     },
     "output_type": "display_data"
    }
   ],
   "source": [
    "sns.barplot(x=balance.index, y='Percent of Articles', data=balance,palette='husl')\n",
    "#Categories are reasonably balanced"
   ]
  },
  {
   "cell_type": "code",
   "execution_count": 7,
   "metadata": {},
   "outputs": [],
   "source": [
    "data['Length'] = list(map(lambda x: 2225 if len(x)>7500 else len(x), data['News']))"
   ]
  },
  {
   "cell_type": "code",
   "execution_count": 8,
   "metadata": {
    "scrolled": true
   },
   "outputs": [
    {
     "data": {
      "text/plain": [
       "<matplotlib.axes._subplots.AxesSubplot at 0x174d265ed48>"
      ]
     },
     "execution_count": 8,
     "metadata": {},
     "output_type": "execute_result"
    },
    {
     "data": {
      "image/png": "[encoded data removed]",
      "text/plain": [
       "<Figure size 432x288 with 1 Axes>"
      ]
     },
     "metadata": {
      "needs_background": "light"
     },
     "output_type": "display_data"
    }
   ],
   "source": [
    "sns.boxplot(x='Category', y='Length', data=data)"
   ]
  },
  {
   "cell_type": "markdown",
   "metadata": {},
   "source": [
    "### Feature Engineering"
   ]
  },
  {
   "cell_type": "code",
   "execution_count": 9,
   "metadata": {
    "scrolled": true
   },
   "outputs": [
    {
     "name": "stderr",
     "output_type": "stream",
     "text": [
      "<>:13: DeprecationWarning: invalid escape sequence \\w\n",
      "<>:13: DeprecationWarning: invalid escape sequence \\w\n",
      "<>:13: DeprecationWarning: invalid escape sequence \\w\n",
      "<ipython-input-9-89277a12bfd7>:13: DeprecationWarning: invalid escape sequence \\w\n",
      "  x = re.sub(\"([^\\w\\s])\", \" \", x)\n",
      "[nltk_data] Downloading package stopwords to\n",
      "[nltk_data]     C:\\Users\\ayon\\AppData\\Roaming\\nltk_data...\n",
      "[nltk_data]   Package stopwords is already up-to-date!\n",
      "[nltk_data] Downloading package punkt to\n",
      "[nltk_data]     C:\\Users\\ayon\\AppData\\Roaming\\nltk_data...\n",
      "[nltk_data]   Package punkt is already up-to-date!\n",
      "[nltk_data] Downloading package wordnet to\n",
      "[nltk_data]     C:\\Users\\ayon\\AppData\\Roaming\\nltk_data...\n",
      "[nltk_data]   Package wordnet is already up-to-date!\n"
     ]
    }
   ],
   "source": [
    "import nltk\n",
    "from nltk.corpus import stopwords\n",
    "nltk.download('stopwords')\n",
    "nltk.download('punkt')\n",
    "from nltk.tokenize import word_tokenize\n",
    "nltk.download('wordnet')\n",
    "import re\n",
    "from nltk.stem import WordNetLemmatizer \n",
    "\n",
    "\n",
    "def textPreprocessor(x):\n",
    "    #remove non-predictive punctuation\n",
    "    x = re.sub(\"([^\\w\\s])\", \" \", x)\n",
    "    #remove non-predictive case\n",
    "    x = x.lower()\n",
    "    x_tokens = word_tokenize(x)\n",
    "    #remove non-predictive stopwords\n",
    "    x_nosw = [word for word in x_tokens if not word in stopwords.words()]\n",
    "    #lemmatize a.k.a reduce to atomic meaning, and then join and return\n",
    "    return ' '.join([lemmatizer.lemmatize(w) for w in x_nosw])\n",
    "\n",
    "def cleanText(column):\n",
    "    lemmatizer = WordNetLemmatizer()\n",
    "    #returns column of clean data\n",
    "    return list(map(textPreprocessor,column))"
   ]
  },
  {
   "cell_type": "code",
   "execution_count": 10,
   "metadata": {},
   "outputs": [],
   "source": [
    "#This line is ridiculously slow, try to avoid running it\n",
    "#THE CLEANED DATA IS ON A CSV WITHIN THE DIRECTORY\n",
    "#newsList = list(data['News'])"
   ]
  },
  {
   "cell_type": "code",
   "execution_count": 11,
   "metadata": {},
   "outputs": [],
   "source": [
    "#pd.DataFrame(cleanText(newsList)).to_csv('cleanedNews')"
   ]
  },
  {
   "cell_type": "code",
   "execution_count": 12,
   "metadata": {},
   "outputs": [],
   "source": [
    "cleanNews = pd.read_csv('cleanedNews')"
   ]
  },
  {
   "cell_type": "code",
   "execution_count": 13,
   "metadata": {},
   "outputs": [],
   "source": [
    "data['News'] = cleanNews['0']"
   ]
  },
  {
   "cell_type": "code",
   "execution_count": 14,
   "metadata": {},
   "outputs": [
    {
     "data": {
      "text/plain": [
       "array(['business', 'entertainment', 'politics', 'sport', 'tech'],\n",
       "      dtype=object)"
      ]
     },
     "execution_count": 14,
     "metadata": {},
     "output_type": "execute_result"
    }
   ],
   "source": [
    "data['Category'].unique()"
   ]
  },
  {
   "cell_type": "code",
   "execution_count": 15,
   "metadata": {},
   "outputs": [],
   "source": [
    "def labelCoder(x):\n",
    "    dict = {\n",
    "        'business': 0,\n",
    "        'entertainment':1,\n",
    "        'politics':2,\n",
    "        'sport':3,\n",
    "        'tech':4,\n",
    "        0:'business',\n",
    "        1:'entertainment',\n",
    "        2:'politics',\n",
    "        3:'sport',\n",
    "        4:'tech'\n",
    "    }\n",
    "    \n",
    "    return dict[x]"
   ]
  },
  {
   "cell_type": "code",
   "execution_count": 16,
   "metadata": {},
   "outputs": [],
   "source": [
    "data['Category'] = list(map(labelCoder,data['Category']))"
   ]
  },
  {
   "cell_type": "code",
   "execution_count": 17,
   "metadata": {},
   "outputs": [],
   "source": [
    "from sklearn.pipeline import Pipeline\n",
    "from sklearn.feature_extraction.text import CountVectorizer\n",
    "from sklearn.feature_extraction.text import TfidfTransformer\n",
    "\n",
    "vectorizationPipeline = Pipeline([\n",
    "    ('vect', CountVectorizer()),\n",
    "    ('tfidf', TfidfTransformer())])"
   ]
  },
  {
   "cell_type": "code",
   "execution_count": 18,
   "metadata": {},
   "outputs": [],
   "source": [
    "x = data['News']\n",
    "y = data['Category']"
   ]
  },
  {
   "cell_type": "code",
   "execution_count": 19,
   "metadata": {},
   "outputs": [],
   "source": [
    "vectorizationPipeline.fit(x)\n",
    "x = vectorizationPipeline.transform(x)"
   ]
  },
  {
   "cell_type": "code",
   "execution_count": 20,
   "metadata": {},
   "outputs": [
    {
     "name": "stdout",
     "output_type": "stream",
     "text": [
      "INFO: 'MultilabelNewsClassification' does not exist. Creating a new experiment\n"
     ]
    }
   ],
   "source": [
    "mlflow.set_tracking_uri(\"http://localhost:5000\")\n",
    "mlflow.set_experiment(\"MultilabelNewsClassification\")"
   ]
  },
  {
   "cell_type": "code",
   "execution_count": 33,
   "metadata": {},
   "outputs": [],
   "source": [
    "from sklearn.metrics import accuracy_score\n",
    "from sklearn.metrics import hamming_loss\n",
    "from sklearn.metrics import precision_score\n",
    "from sklearn.ensemble import RandomForestClassifier\n",
    "from sklearn.model_selection import train_test_split\n",
    "\n",
    "def mlfRunner(x,y,model_name=\"RandomForestClassifier\",model_choice=RandomForestClassifier(max_depth=10, random_state=0),t_size=0.2,r_state=365):\n",
    "    \n",
    "    with mlflow.start_run(run_name=model_name) as run:\n",
    "        \n",
    "        X_train, X_test, y_train, y_test = train_test_split(x, y, test_size=t_size,random_state=r_state)\n",
    "        # Create model, train it, and create predictions\n",
    "        \n",
    "        r = model_choice\n",
    "        \n",
    "        model = r.fit(X_train,y_train)\n",
    "        p = model.predict(X_test)\n",
    "        \n",
    "        # Log params\n",
    "        #mlflow.log_params({'max_depth':[2],'random_state':[1]})\n",
    "  \n",
    "        # Log model\n",
    "        mlflow.sklearn.log_model(model, model_name)\n",
    "        \n",
    "        # Create metrics, do weird lambda stuff to deal with string category labels\n",
    "        accuracy = accuracy_score(y_test, p)\n",
    "\n",
    "        a = round(accuracy_score(y_test, r.predict(X_test)),2)\n",
    "        h = round(hamming_loss(y_test, r.predict(X_test)),2)\n",
    "        p = round(precision_score(y_test, r.predict(X_test), average='macro'),2)\n",
    "        \n",
    "        print(\"Accuracy score: \" + str(a) + \" %\")\n",
    "        print(\"Hamming loss: \" + str(h) + \" %\")\n",
    "        print(\"Precision score: \" + str(p) + \" %\")\n",
    "        \n",
    "        # Log metrics\n",
    "        mlflow.log_metrics({\"accuracy\": a, \"hamming\":h,\"precision\":p})\n",
    "            \n",
    "        runID = run.info.run_uuid\n",
    "        experimentID = run.info.experiment_id\n",
    "  \n",
    "        print(f\"Inside MLflow Run with run_id `{runID}` and experiment_id `{experimentID}`\")\n",
    "        mlflow.end_run()"
   ]
  },
  {
   "cell_type": "code",
   "execution_count": 34,
   "metadata": {},
   "outputs": [
    {
     "name": "stdout",
     "output_type": "stream",
     "text": [
      "Accuracy score: 0.96 %\n",
      "Hamming loss: 0.04 %\n",
      "Inside MLflow Run with run_id `429838e559d94c7a8655192d60eae849` and experiment_id `1`\n"
     ]
    }
   ],
   "source": [
    "mlfRunner(x,y)"
   ]
  },
  {
   "cell_type": "code",
   "execution_count": 39,
   "metadata": {},
   "outputs": [
    {
     "name": "stdout",
     "output_type": "stream",
     "text": [
      "Accuracy score: 0.98 %\n",
      "Hamming loss: 0.02 %\n",
      "Inside MLflow Run with run_id `4ab6adb90c404c699cd2de62dde80d98` and experiment_id `1`\n"
     ]
    }
   ],
   "source": [
    "from sklearn.svm import LinearSVC\n",
    "\n",
    "mlfRunner(x,y,'LinearSVC',LinearSVC(multi_class='crammer_singer',random_state=0))"
   ]
  },
  {
   "cell_type": "code",
   "execution_count": 40,
   "metadata": {},
   "outputs": [
    {
     "name": "stdout",
     "output_type": "stream",
     "text": [
      "Accuracy score: 0.93 %\n",
      "Hamming loss: 0.07 %\n",
      "Inside MLflow Run with run_id `6639d4a91cdf4009a68cad773d34c227` and experiment_id `1`\n",
      "Accuracy score: 0.93 %\n",
      "Hamming loss: 0.07 %\n",
      "Inside MLflow Run with run_id `d899e922da2948b2bdbb98b377058b76` and experiment_id `1`\n",
      "Accuracy score: 0.94 %\n",
      "Hamming loss: 0.06 %\n",
      "Inside MLflow Run with run_id `b7be0f56b3904772ad513bfe78456a7b` and experiment_id `1`\n"
     ]
    }
   ],
   "source": [
    "from sklearn.neighbors import KNeighborsClassifier\n",
    "\n",
    "mlfRunner(x,y,'KNN-2',KNeighborsClassifier(n_neighbors=2))\n",
    "mlfRunner(x,y,'KNN-3',KNeighborsClassifier(n_neighbors=3))\n",
    "mlfRunner(x,y,'KNN-4',KNeighborsClassifier(n_neighbors=4))"
   ]
  },
  {
   "cell_type": "code",
   "execution_count": 41,
   "metadata": {},
   "outputs": [
    {
     "name": "stdout",
     "output_type": "stream",
     "text": [
      "Accuracy score: 0.96 %\n",
      "Hamming loss: 0.04 %\n",
      "Inside MLflow Run with run_id `3fdf64907ea14c00a3dfc362663e25aa` and experiment_id `1`\n"
     ]
    }
   ],
   "source": [
    "from sklearn.naive_bayes import BernoulliNB\n",
    "\n",
    "mlfRunner(x,y,'Bernoulli-Naive-Bayes',BernoulliNB())"
   ]
  },
  {
   "cell_type": "code",
   "execution_count": 43,
   "metadata": {},
   "outputs": [
    {
     "name": "stdout",
     "output_type": "stream",
     "text": [
      "Accuracy score: 0.98 %\n",
      "Hamming loss: 0.02 %\n",
      "Inside MLflow Run with run_id `d916d36089e944c3a645c61dffc19980` and experiment_id `1`\n"
     ]
    }
   ],
   "source": [
    "from sklearn.linear_model import LogisticRegression\n",
    "\n",
    "mlfRunner(x,y,'LogisticRegression-Multinomial',LogisticRegression(multi_class='multinomial', random_state=0))"
   ]
  },
  {
   "cell_type": "code",
   "execution_count": null,
   "metadata": {},
   "outputs": [],
   "source": [
    "techSample = ['Hungarian autonomous driving startup AImotive is leveraging its technology to address a different industry and growing need: autonomous satellite operation. AImotive is teaming up with C3S, a supplier of satellite and space-based technologies, to develop a hardware platform for performing AI operations onboard satellites. AImotive’s aiWare neural network accelerator will be optimized by C3S for use on satellites, which have a set of operating conditions that in many ways resembles those onboard cars on the road – but with more stringent requirements in terms of power management, and environmental operating hazards.']\n",
    "\n",
    "techSample = vectorizationPipeline.transform(techSample)\n",
    "\n",
    "labelCoder(clf.predict(techSample)[0])"
   ]
  },
  {
   "cell_type": "code",
   "execution_count": null,
   "metadata": {},
   "outputs": [],
   "source": [
    "techSample = ['Hungarian autonomous driving startup AImotive is leveraging its technology to address a different industry and growing need: autonomous satellite operation. AImotive is teaming up with C3S, a supplier of satellite and space-based technologies, to develop a hardware platform for performing AI operations onboard satellites. AImotive’s aiWare neural network accelerator will be optimized by C3S for use on satellites, which have a set of operating conditions that in many ways resembles those onboard cars on the road – but with more stringent requirements in terms of power management, and environmental operating hazards.']\n",
    "techSample = vectorizationPipeline.transform(techSample)\n",
    "\n",
    "bizSample = ['Governments around the world are spending like never before to kick-start their economies in the wake of Covid-19 lockdowns, in many cases tying green initiatives to rescue packages, even as some industries say saving jobs should trump environmental concerns. ']\n",
    "bizSample = vectorizationPipeline.transform(bizSample)\n",
    "\n",
    "labelCoder(clf.predict(bizSample)[0])"
   ]
  },
  {
   "cell_type": "code",
   "execution_count": null,
   "metadata": {},
   "outputs": [],
   "source": []
  }
 ],
 "metadata": {
  "kernelspec": {
   "display_name": "Python 3",
   "language": "python",
   "name": "python3"
  },
  "language_info": {
   "codemirror_mode": {
    "name": "ipython",
    "version": 3
   },
   "file_extension": ".py",
   "mimetype": "text/x-python",
   "name": "python",
   "nbconvert_exporter": "python",
   "pygments_lexer": "ipython3",
   "version": "3.7.7"
  }
 },
 "nbformat": 4,
 "nbformat_minor": 4
}
